{
  "nbformat": 4,
  "nbformat_minor": 0,
  "metadata": {
    "colab": {
      "provenance": []
    },
    "kernelspec": {
      "name": "python3",
      "display_name": "Python 3"
    },
    "language_info": {
      "name": "python"
    }
  },
  "cells": [
    {
      "cell_type": "code",
      "execution_count": null,
      "metadata": {
        "id": "tj_hcxl_H3Fu"
      },
      "outputs": [],
      "source": [
        "#conn le da sentido a lo que está adentro  de las comillas\n",
        "html = \"\"\"\n",
        "<html>\n",
        "  <head>\n"
      ]
    },
    {
      "cell_type": "code",
      "source": [
        "from bs4 import BeautifulSoup\n",
        "import requests\n",
        "import pandas as pd"
      ],
      "metadata": {
        "id": "3f1S1WebIeh_"
      },
      "execution_count": null,
      "outputs": []
    },
    {
      "cell_type": "code",
      "source": [
        "#Alinea a un texto\n",
        "# extrae solo lo que tenga una etiqueta title La libreria extrae la etiqueta que querams\n",
        "soup.title\n",
        "soup.title.get_text() #extraigo solo el texto de la etiqueta\n",
        "soup.h1.get_text() #extraigo solo el texto de la etiqueta\n",
        "souop.p.get_text() #extraigo solo el texto de la etiqueta\n",
        "#la idea es saber en que parte de la etiqueta estan mis variables\n"
      ],
      "metadata": {
        "id": "H_VNbaZRIifD"
      },
      "execution_count": null,
      "outputs": []
    },
    {
      "cell_type": "code",
      "source": [
        "response = requests.get(\"https://www.billboard.com/charts/hot-100\")\n",
        "soup = BeautifulSoup(response.content, \"html.parser\")"
      ],
      "metadata": {
        "id": "Tbez48I7LecP"
      },
      "execution_count": null,
      "outputs": []
    },
    {
      "cell_type": "code",
      "source": [
        "print(response.status_code)  #200 es correcto"
      ],
      "metadata": {
        "colab": {
          "base_uri": "https://localhost:8080/"
        },
        "id": "cKQ3ueiPLkkM",
        "outputId": "cc2db0d2-3062-44e7-dd73-b4dc18958a33"
      },
      "execution_count": null,
      "outputs": [
        {
          "output_type": "stream",
          "name": "stdout",
          "text": [
            "200\n"
          ]
        }
      ]
    },
    {
      "cell_type": "code",
      "source": [
        "#Sitio web de la extracción de datos\n",
        "url = \"https://www.billboard.com/charts/hot-100\"\n",
        "response = requests.get(url)\n",
        "soup = BeautifulSoup(response.content, \"html.parser\")\n",
        "# print(soup.prettify())\n",
        "print(soup.body.string)"
      ],
      "metadata": {
        "colab": {
          "base_uri": "https://localhost:8080/"
        },
        "id": "6bktyQ64Lp83",
        "outputId": "b1d036e8-1613-451b-f95a-1cfef1ddcce6"
      },
      "execution_count": null,
      "outputs": [
        {
          "output_type": "stream",
          "name": "stdout",
          "text": [
            "None\n"
          ]
        }
      ]
    },
    {
      "cell_type": "code",
      "source": [
        "titles = soup.find_all(\"h3\", class_=\"c-title\")\n",
        "for title in titles:\n",
        "    print(title.get_text(strip=True))"
      ],
      "metadata": {
        "colab": {
          "base_uri": "https://localhost:8080/"
        },
        "id": "EGyeOcY2L6rq",
        "outputId": "914a1d7c-8e0b-4d5c-eec6-2f371784972a"
      },
      "execution_count": null,
      "outputs": [
        {
          "output_type": "stream",
          "name": "stdout",
          "text": [
            "A Bar Song (Tipsy)\n",
            "Songwriter(s):\n",
            "Producer(s):\n",
            "Imprint/Promotion Label:\n",
            "Shaboozey to Headline Utah Hockey Club's Inaugural Season Opening Night Concert\n",
            "Gains in Weekly Performance\n",
            "Additional Awards\n",
            "A Bar Song (Tipsy)\n",
            "Songwriter(s):\n",
            "Producer(s):\n",
            "Imprint/Promotion Label:\n",
            "I Had Some Help\n",
            "Songwriter(s):\n",
            "Producer(s):\n",
            "Imprint/Promotion Label:\n",
            "Espresso\n",
            "Songwriter(s):\n",
            "Producer(s):\n",
            "Imprint/Promotion Label:\n",
            "Good Luck, Babe!\n",
            "Songwriter(s):\n",
            "Producer(s):\n",
            "Imprint/Promotion Label:\n",
            "Die With A Smile\n",
            "Songwriter(s):\n",
            "Producer(s):\n",
            "Imprint/Promotion Label:\n",
            "Birds Of A Feather\n",
            "Songwriter(s):\n",
            "Producer(s):\n",
            "Imprint/Promotion Label:\n",
            "Lose Control\n",
            "Songwriter(s):\n",
            "Producer(s):\n",
            "Imprint/Promotion Label:\n",
            "Please Please Please\n",
            "Songwriter(s):\n",
            "Producer(s):\n",
            "Imprint/Promotion Label:\n",
            "Taste\n",
            "Songwriter(s):\n",
            "Producer(s):\n",
            "Imprint/Promotion Label:\n",
            "Not Like Us\n",
            "Songwriter(s):\n",
            "Producer(s):\n",
            "Imprint/Promotion Label:\n",
            "Beautiful Things\n",
            "Songwriter(s):\n",
            "Producer(s):\n",
            "Imprint/Promotion Label:\n",
            "Too Sweet\n",
            "Songwriter(s):\n",
            "Producer(s):\n",
            "Imprint/Promotion Label:\n",
            "Million Dollar Baby\n",
            "Songwriter(s):\n",
            "Producer(s):\n",
            "Imprint/Promotion Label:\n",
            "Ain't No Love In Oklahoma\n",
            "Songwriter(s):\n",
            "Producer(s):\n",
            "Imprint/Promotion Label:\n",
            "Hot To Go!\n",
            "Songwriter(s):\n",
            "Producer(s):\n",
            "Imprint/Promotion Label:\n",
            "Lies Lies Lies\n",
            "Songwriter(s):\n",
            "Producer(s):\n",
            "Imprint/Promotion Label:\n",
            "Miles On It\n",
            "Songwriter(s):\n",
            "Producer(s):\n",
            "Imprint/Promotion Label:\n",
            "Cowgirls\n",
            "Songwriter(s):\n",
            "Producer(s):\n",
            "Imprint/Promotion Label:\n",
            "Austin\n",
            "Songwriter(s):\n",
            "Producer(s):\n",
            "Imprint/Promotion Label:\n",
            "Bed Chem\n",
            "Songwriter(s):\n",
            "Producer(s):\n",
            "Imprint/Promotion Label:\n",
            "Teflon Don\n",
            "Songwriter(s):\n",
            "Producer(s):\n",
            "Imprint/Promotion Label:\n",
            "I Am Not Okay\n",
            "Songwriter(s):\n",
            "Producer(s):\n",
            "Imprint/Promotion Label:\n",
            "Too Fast\n",
            "Songwriter(s):\n",
            "Producer(s):\n",
            "Imprint/Promotion Label:\n",
            "Pink Skies\n",
            "Songwriter(s):\n",
            "Producer(s):\n",
            "Imprint/Promotion Label:\n",
            "Lil Demon\n",
            "Songwriter(s):\n",
            "Producer(s):\n",
            "Imprint/Promotion Label:\n",
            "Ski\n",
            "Songwriter(s):\n",
            "Producer(s):\n",
            "Imprint/Promotion Label:\n",
            "Pink Pony Club\n",
            "Songwriter(s):\n",
            "Producer(s):\n",
            "Imprint/Promotion Label:\n",
            "The Door\n",
            "Songwriter(s):\n",
            "Producer(s):\n",
            "Imprint/Promotion Label:\n",
            "Plutoski\n",
            "Songwriter(s):\n",
            "Producer(s):\n",
            "Imprint/Promotion Label:\n",
            "Who\n",
            "Songwriter(s):\n",
            "Producer(s):\n",
            "Imprint/Promotion Label:\n",
            "Kehlani\n",
            "Songwriter(s):\n",
            "Producer(s):\n",
            "Imprint/Promotion Label:\n",
            "It's Ok I'm Ok\n",
            "Songwriter(s):\n",
            "Producer(s):\n",
            "Imprint/Promotion Label:\n",
            "TGIF\n",
            "Songwriter(s):\n",
            "Producer(s):\n",
            "Imprint/Promotion Label:\n",
            "I Can Do It With A Broken Heart\n",
            "Songwriter(s):\n",
            "Producer(s):\n",
            "Imprint/Promotion Label:\n",
            "Pour Me A Drink\n",
            "Songwriter(s):\n",
            "Producer(s):\n",
            "Imprint/Promotion Label:\n",
            "Saturn\n",
            "Songwriter(s):\n",
            "Producer(s):\n",
            "Imprint/Promotion Label:\n",
            "28\n",
            "Songwriter(s):\n",
            "Producer(s):\n",
            "Imprint/Promotion Label:\n",
            "Dancing In The Flames\n",
            "Songwriter(s):\n",
            "Producer(s):\n",
            "Imprint/Promotion Label:\n",
            "Like That\n",
            "Songwriter(s):\n",
            "Producer(s):\n",
            "Imprint/Promotion Label:\n",
            "Stargazing\n",
            "Songwriter(s):\n",
            "Producer(s):\n",
            "Imprint/Promotion Label:\n",
            "You Look Like You Love Me\n",
            "Songwriter(s):\n",
            "Producer(s):\n",
            "Imprint/Promotion Label:\n",
            "Ready To Cook Up\n",
            "Songwriter(s):\n",
            "Producer(s):\n",
            "Imprint/Promotion Label:\n",
            "Si Antes Te Hubiera Conocido\n",
            "Songwriter(s):\n",
            "Producer(s):\n",
            "Imprint/Promotion Label:\n",
            "Guy For That\n",
            "Songwriter(s):\n",
            "Producer(s):\n",
            "Imprint/Promotion Label:\n",
            "Wildflower\n",
            "Songwriter(s):\n",
            "Producer(s):\n",
            "Imprint/Promotion Label:\n",
            "Ocean\n",
            "Songwriter(s):\n",
            "Producer(s):\n",
            "Imprint/Promotion Label:\n",
            "Sailor Song\n",
            "Songwriter(s):\n",
            "Producer(s):\n",
            "Imprint/Promotion Label:\n",
            "Stick Season\n",
            "Songwriter(s):\n",
            "Producer(s):\n",
            "Imprint/Promotion Label:\n",
            "Slow It Down\n",
            "Songwriter(s):\n",
            "Producer(s):\n",
            "Imprint/Promotion Label:\n",
            "High Road\n",
            "Songwriter(s):\n",
            "Producer(s):\n",
            "Imprint/Promotion Label:\n",
            "All Red\n",
            "Songwriter(s):\n",
            "Producer(s):\n",
            "Imprint/Promotion Label:\n",
            "The Emptiness Machine\n",
            "Songwriter(s):\n",
            "Producer(s):\n",
            "Imprint/Promotion Label:\n",
            "360\n",
            "Songwriter(s):\n",
            "Producer(s):\n",
            "Imprint/Promotion Label:\n",
            "La Patrulla\n",
            "Songwriter(s):\n",
            "Producer(s):\n",
            "Imprint/Promotion Label:\n",
            "Good Graces\n",
            "Songwriter(s):\n",
            "Producer(s):\n",
            "Imprint/Promotion Label:\n",
            "Big Dawgs\n",
            "Songwriter(s):\n",
            "Producer(s):\n",
            "Imprint/Promotion Label:\n",
            "South Of France\n",
            "Songwriter(s):\n",
            "Producer(s):\n",
            "Imprint/Promotion Label:\n",
            "I Love You, I'm Sorry\n",
            "Songwriter(s):\n",
            "Producer(s):\n",
            "Imprint/Promotion Label:\n",
            "Brazzier\n",
            "Songwriter(s):\n",
            "Producer(s):\n",
            "Imprint/Promotion Label:\n",
            "Mamushi\n",
            "Songwriter(s):\n",
            "Producer(s):\n",
            "Imprint/Promotion Label:\n",
            "Press The Button\n",
            "Songwriter(s):\n",
            "Producer(s):\n",
            "Imprint/Promotion Label:\n",
            "Red Wine Supernova\n",
            "Songwriter(s):\n",
            "Producer(s):\n",
            "Imprint/Promotion Label:\n",
            "Surfing A Tsunami\n",
            "Songwriter(s):\n",
            "Producer(s):\n",
            "Imprint/Promotion Label:\n",
            "Guess\n",
            "Songwriter(s):\n",
            "Producer(s):\n",
            "Imprint/Promotion Label:\n",
            "Help Me\n",
            "Songwriter(s):\n",
            "Producer(s):\n",
            "Imprint/Promotion Label:\n",
            "Houdini\n",
            "Songwriter(s):\n",
            "Producer(s):\n",
            "Imprint/Promotion Label:\n",
            "One Of Wun\n",
            "Songwriter(s):\n",
            "Producer(s):\n",
            "Imprint/Promotion Label:\n",
            "MJ\n",
            "Songwriter(s):\n",
            "Producer(s):\n",
            "Imprint/Promotion Label:\n",
            "Whiskey Whiskey\n",
            "Songwriter(s):\n",
            "Producer(s):\n",
            "Imprint/Promotion Label:\n",
            "Oath\n",
            "Songwriter(s):\n",
            "Producer(s):\n",
            "Imprint/Promotion Label:\n",
            "Nights Like This\n",
            "Songwriter(s):\n",
            "Producer(s):\n",
            "Imprint/Promotion Label:\n",
            "Casual\n",
            "Songwriter(s):\n",
            "Producer(s):\n",
            "Imprint/Promotion Label:\n",
            "Love You, Miss You, Mean It\n",
            "Songwriter(s):\n",
            "Producer(s):\n",
            "Imprint/Promotion Label:\n",
            "Juno\n",
            "Songwriter(s):\n",
            "Producer(s):\n",
            "Imprint/Promotion Label:\n",
            "Think I'm In Love With You\n",
            "Songwriter(s):\n",
            "Producer(s):\n",
            "Imprint/Promotion Label:\n",
            "Burning Down\n",
            "Songwriter(s):\n",
            "Producer(s):\n",
            "Imprint/Promotion Label:\n",
            "Wind Up Missin' You\n",
            "Songwriter(s):\n",
            "Producer(s):\n",
            "Imprint/Promotion Label:\n",
            "Lonely Road\n",
            "Songwriter(s):\n",
            "Producer(s):\n",
            "Imprint/Promotion Label:\n",
            "Una Velita\n",
            "Songwriter(s):\n",
            "Producer(s):\n",
            "Imprint/Promotion Label:\n",
            "Aye Say Gang\n",
            "Songwriter(s):\n",
            "Producer(s):\n",
            "Imprint/Promotion Label:\n",
            "Told My\n",
            "Songwriter(s):\n",
            "Producer(s):\n",
            "Imprint/Promotion Label:\n",
            "Nel\n",
            "Songwriter(s):\n",
            "Producer(s):\n",
            "Imprint/Promotion Label:\n",
            "Lost My Dog\n",
            "Songwriter(s):\n",
            "Producer(s):\n",
            "Imprint/Promotion Label:\n",
            "Am I Okay?\n",
            "Songwriter(s):\n",
            "Producer(s):\n",
            "Imprint/Promotion Label:\n",
            "Made My Hoe Faint\n",
            "Songwriter(s):\n",
            "Producer(s):\n",
            "Imprint/Promotion Label:\n",
            "Hollon\n",
            "Songwriter(s):\n",
            "Producer(s):\n",
            "Imprint/Promotion Label:\n",
            "Chevrolet\n",
            "Songwriter(s):\n",
            "Producer(s):\n",
            "Imprint/Promotion Label:\n",
            "Dos Dias\n",
            "Songwriter(s):\n",
            "Producer(s):\n",
            "Imprint/Promotion Label:\n",
            "Apple\n",
            "Songwriter(s):\n",
            "Producer(s):\n",
            "Imprint/Promotion Label:\n",
            "Beautiful As You\n",
            "Songwriter(s):\n",
            "Producer(s):\n",
            "Imprint/Promotion Label:\n",
            "Shake Dat Ass (Twerk Song)\n",
            "Songwriter(s):\n",
            "Producer(s):\n",
            "Imprint/Promotion Label:\n",
            "Belong Together\n",
            "Songwriter(s):\n",
            "Producer(s):\n",
            "Imprint/Promotion Label:\n",
            "Residuals\n",
            "Songwriter(s):\n",
            "Producer(s):\n",
            "Imprint/Promotion Label:\n",
            "Lunch\n",
            "Songwriter(s):\n",
            "Producer(s):\n",
            "Imprint/Promotion Label:\n",
            "Prove It\n",
            "Songwriter(s):\n",
            "Producer(s):\n",
            "Imprint/Promotion Label:\n",
            "Diet Pepsi\n",
            "Songwriter(s):\n",
            "Producer(s):\n",
            "Imprint/Promotion Label:\n",
            "Coincidence\n",
            "Songwriter(s):\n",
            "Producer(s):\n",
            "Imprint/Promotion Label:\n",
            "Passport Junkie\n",
            "Songwriter(s):\n",
            "Producer(s):\n",
            "Imprint/Promotion Label:\n",
            "Circadian Rhythm\n",
            "Songwriter(s):\n",
            "Producer(s):\n",
            "Imprint/Promotion Label:\n",
            "Sharpest Tool\n",
            "Songwriter(s):\n",
            "Producer(s):\n",
            "Imprint/Promotion Label:\n",
            "John Amos, 'Good Times' Dad, Dies at 84\n",
            "Diddy Pornographic Video Allegedly Features A Person \"More High-Profile\" Than Him\n",
            "The Hottest Products to Watch as October Prime Day Nears\n",
            "Michael Andretti to Exit Ownership of Andretti Global\n",
            "‘Viet and Nam’ Review: A Dreamy Portrait of Queer Love and Historical Haunting\n",
            "Eminem Announces His New Role As A Grandpa In Latest Video: Watch\n",
            "Photographer Jonathan Becker’s New Book Spotlights Celebrities, Royals and Designers\n",
            "MLB Helmet Stickers Annoy Fans as Strauss Makes U.S. Debut\n",
            "Lisa Interpolates Sixpence None the Richer’s ‘Kiss Me’ on New Single\n",
            "Follow Us\n",
            "Have a Tip?\n",
            "The Daily\n",
            "Have a Tip?\n"
          ]
        }
      ]
    },
    {
      "cell_type": "code",
      "source": [
        "response = requests.get(\"https://books.toscrape.com\")\n",
        "soup = BeautifulSoup(response.content, \"html.parser\")\n",
        "print(response.status_code)"
      ],
      "metadata": {
        "colab": {
          "base_uri": "https://localhost:8080/"
        },
        "id": "BwEbBMFzOl-d",
        "outputId": "c5270f19-3acb-4934-bb24-40076b3d619a"
      },
      "execution_count": null,
      "outputs": [
        {
          "output_type": "stream",
          "name": "stdout",
          "text": [
            "200\n"
          ]
        }
      ]
    },
    {
      "cell_type": "code",
      "source": [
        "#sitio web de donde se van a extraer la información\n",
        "#Recorriendo los datos\n",
        "#Clase"
      ],
      "metadata": {
        "id": "nHMsr21JNsWg"
      },
      "execution_count": null,
      "outputs": []
    },
    {
      "cell_type": "code",
      "source": [],
      "metadata": {
        "id": "ZQDHknMndG1Q"
      },
      "execution_count": null,
      "outputs": []
    },
    {
      "cell_type": "markdown",
      "source": [
        "WEBSCRAPING EJEMPLO CLASE    \n",
        "\n",
        "El Web Scraping es una técnica utilizada para extraer datos de sitios web de manera automática. Este proceso implica el uso de programas de software que envían solicitudes a páginas web, recuperan su contenido HTML, y extraen la información deseada, la cual puede ser almacenada y analizada posteriormente. Es una herramienta poderosa para recolectar grandes volúmenes de datos no estructurados que se encuentran en la web y transformarlos en datos estructurados para análisis, investigación, y diversas aplicaciones comerciales."
      ],
      "metadata": {
        "id": "GVrN4fP_dH2O"
      }
    },
    {
      "cell_type": "code",
      "source": [
        "#Instalación de librerías python necesarias, si es requerido\n",
        "# !pip install requests\n",
        "# !pip install beautifulsoup4\n",
        "# !pip install pandas"
      ],
      "metadata": {
        "id": "Wnl3_6uRdLkZ"
      },
      "execution_count": null,
      "outputs": []
    },
    {
      "cell_type": "code",
      "source": [
        "#Importar librerías para extracción de datos web\n",
        "import requests\n",
        "from bs4 import BeautifulSoup\n",
        "import pandas as pd"
      ],
      "metadata": {
        "id": "WTfnEJcadU__"
      },
      "execution_count": null,
      "outputs": []
    },
    {
      "cell_type": "code",
      "source": [
        "#Sitio web de la extracción de datos\n",
        "url         = \"http://books.toscrape.com/\"\n",
        "response    = requests.get(url)\n",
        "soup        = BeautifulSoup(response.content, 'html.parser')\n",
        "\n",
        "#ejemplo de lectura y extracción de un html con la librería BeautifulSoup\n",
        "html_doc    = \"<html><head><title>Example</title></head><body><p>Bienvenidos</p></body></html>\"\n",
        "soup        = BeautifulSoup(html_doc, 'html.parser')\n",
        "print(soup.body.string)\n",
        "\n",
        "\n"
      ],
      "metadata": {
        "id": "8nHFVZF2dXCP"
      },
      "execution_count": null,
      "outputs": []
    },
    {
      "cell_type": "code",
      "source": [
        "#recorriendo los datos y almacenandolos en una lista\n",
        "books = soup.find_all('article', class_='product_pod')#accede a la etiqueta article y la clase product_pod\n",
        "book_list = [] #crea una lista vacia\n",
        "\n",
        "for book in books: #creando estructura repetitiva for\n",
        "    title = book.h3.a['title']\n",
        "    price = book.find('p', class_='price_color').text\n",
        "    book_list.append({\"Title\": title, \"Price\": price})"
      ],
      "metadata": {
        "id": "w1PJgxkfddC0"
      },
      "execution_count": null,
      "outputs": []
    },
    {
      "cell_type": "code",
      "source": [
        "#Crear el dataframe de pandas\n",
        "df_books = pd.DataFrame(book_list)\n",
        "print(df_books)"
      ],
      "metadata": {
        "id": "28r3VitJddxo"
      },
      "execution_count": null,
      "outputs": []
    },
    {
      "cell_type": "code",
      "source": [
        "#convertir el valor en £ a dolares\n",
        "# Cantidad en libras\n",
        "amount_gbp = 51.77\n",
        "\n",
        "# Tasa de cambio (1 GBP = 1.27 USD)\n",
        "exchange_rate = 1.27\n",
        "\n",
        "# Conversión a dólares\n",
        "amount_usd = amount_gbp * exchange_rate\n",
        "\n",
        "# Imprimimos el Resultado\n",
        "print(f\"£{amount_gbp} es igual a ${amount_usd:.2f} USD\")"
      ],
      "metadata": {
        "id": "dJ3WUseddfnW"
      },
      "execution_count": null,
      "outputs": []
    },
    {
      "cell_type": "code",
      "source": [
        "# convierte todos los valores de la columna Price a dolares\n",
        "# Elimina el símbolo de la moneda y convierte a float\n",
        "df_books['Price'] = df_books['Price'].str.replace('£', '').astype(float)\n",
        "\n",
        "# Convierte a dólares\n",
        "df_books['Price (USD)'] = df_books['Price'] * exchange_rate\n",
        "\n",
        "# Se redondea el precio en dolares\n",
        "df_books['Price (USD)'] = df_books['Price (USD)'].round(2)\n",
        "df_books.head()"
      ],
      "metadata": {
        "id": "bABp83lSdhjU"
      },
      "execution_count": null,
      "outputs": []
    },
    {
      "cell_type": "code",
      "source": [
        "#Se guarda el resultado en .csv, queda en el folder temporal del drive\n",
        "df_books.to_csv('books.csv', index=False)\n"
      ],
      "metadata": {
        "id": "OxSHyWyhdnUK"
      },
      "execution_count": null,
      "outputs": []
    },
    {
      "cell_type": "code",
      "source": [
        "#Se realiza visualización de los datos con la librería plotly\n",
        "import plotly.express as px\n",
        "\n",
        "fig = px.bar(df_books, x='Title', y='Price (USD)', title='Book Prices')\n",
        "fig.show()"
      ],
      "metadata": {
        "id": "U2yV6jmvdpLt"
      },
      "execution_count": null,
      "outputs": []
    },
    {
      "cell_type": "code",
      "source": [
        "#Se realiza visualización de los datos con la librería matplotlib\n",
        "import matplotlib.pyplot as plt\n",
        "\n",
        "df_books.plot(kind='bar', x='Title', y='Price (USD)', legend=False)\n",
        "plt.ylabel('Price in USD')\n",
        "plt.title('Book Prices')\n",
        "plt.xticks(rotation=90)\n",
        "plt.show()"
      ],
      "metadata": {
        "id": "3Y92lTBTdqf-"
      },
      "execution_count": null,
      "outputs": []
    },
    {
      "cell_type": "code",
      "source": [],
      "metadata": {
        "id": "AHimnZXqdsT5"
      },
      "execution_count": null,
      "outputs": []
    },
    {
      "cell_type": "markdown",
      "source": [
        "# Otros ejemplos de páginas para hacer web scraping"
      ],
      "metadata": {
        "id": "COGvT7oDdvQi"
      }
    },
    {
      "cell_type": "code",
      "source": [
        "url = 'https://www.bbc.com/sport'\n",
        "response = requests.get(url)\n",
        "soup = BeautifulSoup(response.text, 'html.parser')"
      ],
      "metadata": {
        "id": "DzOIzA6FdwlQ"
      },
      "execution_count": null,
      "outputs": []
    },
    {
      "cell_type": "code",
      "source": [
        "headlines = soup.find_all(class_='ssrcss-1mhwnz8-Promo e1vyq2e80')\n",
        "news_list = [headline.get_text() for headline in headlines]\n",
        "print(news_list)"
      ],
      "metadata": {
        "id": "Oxta4A9cdyxY"
      },
      "execution_count": null,
      "outputs": []
    },
    {
      "cell_type": "code",
      "source": [
        "news_df = pd.DataFrame(news_list, columns=['Headline'])\n",
        "news_df.head()"
      ],
      "metadata": {
        "id": "ColdepXed0-Y"
      },
      "execution_count": null,
      "outputs": []
    }
  ]
}